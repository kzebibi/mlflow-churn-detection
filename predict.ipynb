{
 "cells": [
  {
   "cell_type": "code",
   "execution_count": 7,
   "metadata": {},
   "outputs": [],
   "source": [
    "import mlflow\n",
    "\n",
    "logged_model = (\n",
    "    \"runs:/81a419bf55584594b46b2abd360e983c/RandomForestClassifier/without-imbalance\"\n",
    ")\n",
    "\n",
    "# Load model as a PyFuncModel.\n",
    "loaded_model = mlflow.pyfunc.load_model(logged_model)"
   ]
  },
  {
   "cell_type": "code",
   "execution_count": 8,
   "metadata": {},
   "outputs": [],
   "source": [
    "data = [\n",
    "    [\n",
    "        -0.7541830079917924,\n",
    "        0.5780143566720919,\n",
    "        0.11375998165198585,\n",
    "        -0.14673040749854463,\n",
    "        0.0,\n",
    "        0.0,\n",
    "        0.0,\n",
    "        2.0,\n",
    "        0.0,\n",
    "        0.0,\n",
    "        2.0,\n",
    "    ],\n",
    "    [\n",
    "        -0.5605884106597949,\n",
    "        0.753908347743766,\n",
    "        0.7003528882054108,\n",
    "        1.6923927520037099,\n",
    "        0.0,\n",
    "        1.0,\n",
    "        0.0,\n",
    "        9.0,\n",
    "        1.0,\n",
    "        1.0,\n",
    "        1.0,\n",
    "    ],\n",
    "    [\n",
    "        0.11699268000219652,\n",
    "        -0.3221490094005933,\n",
    "        0.5222180917013974,\n",
    "        -0.8721429873346316,\n",
    "        1.0,\n",
    "        1.0,\n",
    "        0.0,\n",
    "        5.0,\n",
    "        0.0,\n",
    "        1.0,\n",
    "        2.0,\n",
    "    ],\n",
    "    [\n",
    "        0.6977764719981892,\n",
    "        -0.7256705183297281,\n",
    "        -1.2170740485175422,\n",
    "        0.07677206232885857,\n",
    "        0.0,\n",
    "        0.0,\n",
    "        1.0,\n",
    "        1.0,\n",
    "        0.0,\n",
    "        1.0,\n",
    "        2.0,\n",
    "    ],\n",
    "    [\n",
    "        -0.4637911119937961,\n",
    "        0.2779599013145302,\n",
    "        -1.2170740485175422,\n",
    "        0.4302609530322328,\n",
    "        0.0,\n",
    "        0.0,\n",
    "        0.0,\n",
    "        6.0,\n",
    "        1.0,\n",
    "        1.0,\n",
    "        2.0,\n",
    "    ],\n",
    "    [\n",
    "        -0.5605884106597949,\n",
    "        1.4471376066733053,\n",
    "        -1.2170740485175422,\n",
    "        0.7750570034703476,\n",
    "        0.0,\n",
    "        0.0,\n",
    "        0.0,\n",
    "        3.0,\n",
    "        1.0,\n",
    "        1.0,\n",
    "        1.0,\n",
    "    ],\n",
    "]\n",
    "import numpy as np\n",
    "\n",
    "data = np.array(data)"
   ]
  },
  {
   "cell_type": "code",
   "execution_count": 5,
   "metadata": {},
   "outputs": [
    {
     "data": {
      "text/plain": [
       "array([0, 0, 0, 1, 0, 0])"
      ]
     },
     "execution_count": 5,
     "metadata": {},
     "output_type": "execute_result"
    }
   ],
   "source": [
    "# Predict on a Pandas DataFrame.\n",
    "import pandas as pd\n",
    "\n",
    "loaded_model.predict(pd.DataFrame(data))"
   ]
  },
  {
   "cell_type": "code",
   "execution_count": null,
   "metadata": {},
   "outputs": [],
   "source": []
  },
  {
   "cell_type": "code",
   "execution_count": 10,
   "metadata": {},
   "outputs": [
    {
     "name": "stderr",
     "output_type": "stream",
     "text": [
      "k:\\AI Track\\12_MLOps\\agoor\\mlflow\\venv\\Lib\\site-packages\\mlflow\\store\\artifact\\utils\\models.py:37: FutureWarning: ``mlflow.tracking.client.MlflowClient.get_latest_versions`` is deprecated since 2.9.0. Model registry stages will be removed in a future major release. To learn more about the deprecation of model registry stages, see our migration guide here: https://mlflow.org/docs/latest/model-registry.html#migrating-from-stages\n",
      "  latest = client.get_latest_versions(name, None if stage is None else [stage])\n"
     ]
    },
    {
     "data": {
      "text/plain": [
       "array([0, 0, 0, 1, 0, 0])"
      ]
     },
     "execution_count": 10,
     "metadata": {},
     "output_type": "execute_result"
    }
   ],
   "source": [
    "import mlflow\n",
    "logged_model = 'models:/forest_best_acc/Production'\n",
    "\n",
    "# Load model as a PyFuncModel.\n",
    "loaded_model = mlflow.pyfunc.load_model(logged_model)\n",
    "\n",
    "# Predict on a Pandas DataFrame.\n",
    "import pandas as pd\n",
    "loaded_model.predict(pd.DataFrame(data))"
   ]
  },
  {
   "cell_type": "code",
   "execution_count": null,
   "metadata": {},
   "outputs": [],
   "source": [
    "import mlflow\n",
    "logged_model = 'models:/forest_best_acc/Staging'\n",
    "\n",
    "# Load model as a PyFuncModel.\n",
    "loaded_model = mlflow.pyfunc.load_model(logged_model)\n",
    "\n",
    "# Predict on a Pandas DataFrame.\n",
    "import pandas as pd\n",
    "loaded_model.predict(pd.DataFrame(data))"
   ]
  },
  {
   "cell_type": "code",
   "execution_count": null,
   "metadata": {},
   "outputs": [],
   "source": [
    "import mlflow\n",
    "logged_model = 'models:/forest_best_acc/Archived'\n",
    "\n",
    "# Load model as a PyFuncModel.\n",
    "loaded_model = mlflow.pyfunc.load_model(logged_model)\n",
    "\n",
    "# Predict on a Pandas DataFrame.\n",
    "import pandas as pd\n",
    "loaded_model.predict(pd.DataFrame(data))"
   ]
  }
 ],
 "metadata": {
  "kernelspec": {
   "display_name": "venv",
   "language": "python",
   "name": "python3"
  },
  "language_info": {
   "codemirror_mode": {
    "name": "ipython",
    "version": 3
   },
   "file_extension": ".py",
   "mimetype": "text/x-python",
   "name": "python",
   "nbconvert_exporter": "python",
   "pygments_lexer": "ipython3",
   "version": "3.12.5"
  }
 },
 "nbformat": 4,
 "nbformat_minor": 2
}
